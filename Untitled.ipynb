{
 "cells": [
  {
   "cell_type": "code",
   "execution_count": 1,
   "id": "88ee7397",
   "metadata": {},
   "outputs": [],
   "source": [
    "import numpy as np\n",
    "import galois\n",
    "from numpy.lib import poly\n",
    "from scipy.interpolate import lagrange\n",
    "\n",
    " "
   ]
  },
  {
   "cell_type": "code",
   "execution_count": 2,
   "id": "ac7cb0e1",
   "metadata": {},
   "outputs": [],
   "source": [
    "\n",
    "L_r1 = np.array([\n",
    "    [0, 1, 0, 0, 0, 0],\n",
    "    [0, 0, 0, 1, 0, 0],\n",
    "    [0, 1, 0, 0, 1, 0], \n",
    "    [5, 0, 0, 0, 0, 1]\n",
    "])\n",
    "\n",
    "R_r1 = np.array([\n",
    "    [0, 1, 0, 0, 0, 0],\n",
    "    [0, 1, 0, 0, 0, 0],\n",
    "    [1, 0, 0, 0, 0, 0],\n",
    "    [1, 0, 0, 0, 0, 0]\n",
    "])\n",
    "\n",
    "O_r1 = np.array([\n",
    "    [0, 0, 0, 1, 0, 0],\n",
    "    [0, 0, 0, 0, 1, 0],\n",
    "    [0, 0, 0, 0, 0, 1],\n",
    "    [0, 0, 1, 0, 0, 0]\n",
    "])\n",
    "\n",
    "  "
   ]
  },
  {
   "cell_type": "code",
   "execution_count": 3,
   "id": "c0f4c797",
   "metadata": {},
   "outputs": [],
   "source": [
    "def convert_negtives(matrix, prime):\n",
    "    matrix[matrix < 0] += prime\n",
    "    return matrix\n",
    "def calculate_poly(x, y_matrix):\n",
    "    y_matrix = y_matrix.T\n",
    "    poly = []\n",
    "    for y in y_matrix:\n",
    "        poly.append(lagrange(x,y))\n",
    "    return poly"
   ]
  },
  {
   "cell_type": "code",
   "execution_count": 4,
   "id": "4efe3cc6",
   "metadata": {},
   "outputs": [],
   "source": [
    "witness = np.array([1, 3, 35, 9, 27, 30])"
   ]
  },
  {
   "cell_type": "code",
   "execution_count": 8,
   "id": "f499c2bc",
   "metadata": {},
   "outputs": [],
   "source": [
    "\n",
    "\n",
    "\n",
    "x = np.array([1, 2, 3, 4])\n",
    "A = calculate_poly(x, L_r1)\n",
    "B = calculate_poly(x, R_r1)\n",
    "C = calculate_poly(x, O_r1)\n",
    "\n"
   ]
  },
  {
   "cell_type": "code",
   "execution_count": 9,
   "id": "ade9b8fe",
   "metadata": {},
   "outputs": [
    {
     "data": {
      "text/plain": [
       "[poly1d([0.]),\n",
       " poly1d([0.]),\n",
       " poly1d([ 0.16666667, -1.        ,  1.83333333, -1.        ]),\n",
       " poly1d([-0.16666667,  1.5       , -4.33333333,  4.        ]),\n",
       " poly1d([ 0.5, -4. ,  9.5, -6. ]),\n",
       " poly1d([-0.5,  3.5, -7. ,  4. ])]"
      ]
     },
     "execution_count": 9,
     "metadata": {},
     "output_type": "execute_result"
    }
   ],
   "source": []
  },
  {
   "cell_type": "code",
   "execution_count": 19,
   "id": "e13936a9",
   "metadata": {},
   "outputs": [],
   "source": [
    "def eval_poly(poly, value):\n",
    "    result = []\n",
    "    for pol in poly:\n",
    "        result.append(pol(value))\n",
    "    return np.array(result)"
   ]
  },
  {
   "cell_type": "code",
   "execution_count": 20,
   "id": "892d448f",
   "metadata": {},
   "outputs": [
    {
     "data": {
      "text/plain": [
       "array([-8.88178420e-16,  1.00000000e+00,  0.00000000e+00,  0.00000000e+00,\n",
       "        0.00000000e+00, -1.11022302e-16])"
      ]
     },
     "execution_count": 20,
     "metadata": {},
     "output_type": "execute_result"
    }
   ],
   "source": [
    "eval_poly(A, 1)"
   ]
  },
  {
   "cell_type": "code",
   "execution_count": 32,
   "id": "a3d62b8a",
   "metadata": {},
   "outputs": [],
   "source": [
    "A_1 = eval_poly(A, 1)\n",
    "B_1 = eval_poly(B, 1)\n",
    "C_1 = eval_poly(C, 1)"
   ]
  },
  {
   "cell_type": "code",
   "execution_count": 33,
   "id": "4d42ac76",
   "metadata": {},
   "outputs": [
    {
     "data": {
      "text/plain": [
       "array([ 1,  3, 35,  9, 27, 30])"
      ]
     },
     "execution_count": 33,
     "metadata": {},
     "output_type": "execute_result"
    }
   ],
   "source": [
    "witness"
   ]
  },
  {
   "cell_type": "code",
   "execution_count": 34,
   "id": "26f6d175",
   "metadata": {},
   "outputs": [
    {
     "data": {
      "text/plain": [
       "array([-8.88178420e-16,  3.00000000e+00,  0.00000000e+00,  0.00000000e+00,\n",
       "        0.00000000e+00, -3.33066907e-15])"
      ]
     },
     "execution_count": 34,
     "metadata": {},
     "output_type": "execute_result"
    }
   ],
   "source": [
    "witness * A_2"
   ]
  },
  {
   "cell_type": "code",
   "execution_count": 36,
   "id": "99c7c07e",
   "metadata": {},
   "outputs": [
    {
     "data": {
      "text/plain": [
       "0.0"
      ]
     },
     "execution_count": 36,
     "metadata": {},
     "output_type": "execute_result"
    }
   ],
   "source": [
    "witness.dot(A_1)* witness.dot(B_1) - witness.dot(C_1)"
   ]
  },
  {
   "cell_type": "code",
   "execution_count": 48,
   "id": "2715007d",
   "metadata": {},
   "outputs": [],
   "source": [
    "def calculate_zx(constrains):\n",
    "    poly = np.poly1d([1])\n",
    "    for i in range(constrains):\n",
    "        poly *= np.poly1d([1, -(i+1)])\n",
    "    return poly"
   ]
  },
  {
   "cell_type": "code",
   "execution_count": 49,
   "id": "51f91ea7",
   "metadata": {},
   "outputs": [
    {
     "name": "stdout",
     "output_type": "stream",
     "text": [
      "0\n"
     ]
    }
   ],
   "source": [
    "print(calculate_zx(4)(1))\n"
   ]
  },
  {
   "cell_type": "code",
   "execution_count": null,
   "id": "0253726a",
   "metadata": {},
   "outputs": [],
   "source": []
  }
 ],
 "metadata": {
  "kernelspec": {
   "display_name": "Python 3 (ipykernel)",
   "language": "python",
   "name": "python3"
  },
  "language_info": {
   "codemirror_mode": {
    "name": "ipython",
    "version": 3
   },
   "file_extension": ".py",
   "mimetype": "text/x-python",
   "name": "python",
   "nbconvert_exporter": "python",
   "pygments_lexer": "ipython3",
   "version": "3.11.7"
  }
 },
 "nbformat": 4,
 "nbformat_minor": 5
}
